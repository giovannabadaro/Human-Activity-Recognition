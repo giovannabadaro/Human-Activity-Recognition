{
 "cells": [
  {
   "cell_type": "markdown",
   "metadata": {},
   "source": [
    "\n",
    "## Um conjunto de dados de domínio público para reconhecimento de atividade humana usando smartphones\n"
   ]
  },
  {
   "cell_type": "markdown",
   "metadata": {},
   "source": [
    "__Características da base de dados:__   \n",
    "__Indivíduos__: 30  \n",
    "__Idades__: 19 a 48 anos  \n",
    "\n",
    "Seis tipos de atividade:\n",
    "\n",
    "\n",
    "1.   Caminhar\n",
    "2.   Subir \n",
    "3.   Descer\n",
    "4.   Sentar\n",
    "5.   Em pé\n",
    "6.   Deitar\n",
    "\n",
    "<p> 70% dos dados são de de treino, 30% são de teste </p>"
   ]
  },
  {
   "cell_type": "markdown",
   "metadata": {},
   "source": [
    "<p> \n",
    "    Os Algoritmos utilizados neste estudo foram:\n",
    "    \n",
    "    1.  KNN\n",
    "    2.  Naive Bayes\n",
    "    3.  SVM\n",
    "    \n",
    "</p>"
   ]
  },
  {
   "cell_type": "markdown",
   "metadata": {},
   "source": [
    "# KNN "
   ]
  },
  {
   "cell_type": "code",
   "execution_count": 2,
   "metadata": {},
   "outputs": [],
   "source": [
    "%matplotlib inline"
   ]
  },
  {
   "cell_type": "code",
   "execution_count": 3,
   "metadata": {},
   "outputs": [],
   "source": [
    "import numpy as np\n",
    "import matplotlib.pyplot as plt\n",
    "import pandas as pd\n",
    "import time\n",
    "\n",
    "from sklearn.model_selection import train_test_split\n",
    "from sklearn.preprocessing import StandardScaler\n",
    "from sklearn.neighbors import KNeighborsClassifier\n",
    "from matplotlib.colors import ListedColormap\n",
    "from sklearn.metrics import confusion_matrix\n",
    "from sklearn.metrics import accuracy_score\n",
    "from sklearn.metrics import recall_score\n",
    "from sklearn.metrics import precision_score\n",
    "\n",
    "x_train_file = open('/home/giovanna/Documentos/IA/tp02/machine-learning-activities-humans/X_train.txt', 'r')\n",
    "y_train_file = open('/home/giovanna/Documentos/IA/tp02/machine-learning-activities-humans/y_train.txt', 'r')\n",
    "x_test_file = open('/home/giovanna/Documentos/IA/tp02/machine-learning-activities-humans/X_test.txt', 'r')\n",
    "y_test_file = open('/home/giovanna/Documentos/IA/tp02/machine-learning-activities-humans/y_test.txt', 'r')\n",
    "\n",
    "x_train = []\n",
    "y_train = []\n",
    "x_test = []\n",
    "y_test = []\n",
    "\n",
    "for x in x_train_file:\n",
    "    x_train.append([float(ts) for ts in x.split()])\n",
    "    \n",
    "for y in y_train_file:\n",
    "    y_train.append(int(y.rstrip('\\n')))\n",
    "    \n",
    "for x in x_test_file:\n",
    "    x_test.append([float(ts) for ts in x.split()])\n",
    "    \n",
    "for y in y_test_file:\n",
    "    y_test.append(int(y.rstrip('\\n')))\n",
    "    \n",
    "x_train = np.array(x_train)\n",
    "y_train = np.array(y_train)\n",
    "x_test = np.array(x_test)\n",
    "y_test = np.array(y_test)\n",
    "\n",
    "def classificador(k):\n",
    "  classifier = KNeighborsClassifier(n_neighbors = k)\n",
    "  classifier.fit(x_train, y_train)\n",
    "  y_pred = classifier.predict(x_test)\n",
    "  return y_pred\n",
    "\n",
    "# Gerando a Matriz de Confusão com os dados de teste\n",
    "def matrix_confusion(y_test,y_pred):\n",
    "  cm = confusion_matrix(y_test, y_pred)\n",
    "  return cm\n",
    "\n",
    "def metrics (y_test, y_pred):\n",
    "  ac = accuracy_score(y_test, y_pred)\n",
    "  rec = recall_score(y_test,y_pred, average= 'weighted')\n",
    "  prec = precision_score(y_test,y_pred, average='weighted')\n",
    "  return (ac, rec, prec)\n",
    "\n",
    "def plot_confusion_matrix(df_confusion, title='Confusion matrix', cmap=plt.cm.gray_r):\n",
    "    plt.matshow(df_confusion, cmap=cmap) # imshow\n",
    "   \n",
    "    plt.colorbar()\n",
    "    tick_marks = np.arange(len(df_confusion.columns))\n",
    "    plt.xticks(tick_marks, df_confusion.columns, rotation=45)\n",
    "    plt.yticks(tick_marks, df_confusion.index)\n",
    "    #plt.tight_layout()\n",
    "    plt.ylabel(\"Atual\")\n",
    "    plt.xlabel(\"Predito\")\n",
    "\n",
    "\n",
    "\n",
    "\n"
   ]
  },
  {
   "cell_type": "markdown",
   "metadata": {},
   "source": [
    "# Testes\n",
    "\n",
    "<p> Os testes executados começaram com o K = 3, e foram aumentando de 3 em 3 até k = 15 </p>"
   ]
  },
  {
   "cell_type": "markdown",
   "metadata": {},
   "source": [
    "## K = 3"
   ]
  },
  {
   "cell_type": "code",
   "execution_count": 4,
   "metadata": {},
   "outputs": [
    {
     "name": "stdout",
     "output_type": "stream",
     "text": [
      "TEMPO DE EXECUÇÃO (função classificador): 25.978222608566284 segundos \n",
      "\n",
      "acuracia = 0.8907363420427553 , recall = 0.8907363420427553 , precisao = 0.893559864952592 \n",
      "\n",
      "\n",
      "[[481   4  11   0   0   0]\n",
      " [ 36 422  13   0   0   0]\n",
      " [ 49  42 329   0   0   0]\n",
      " [  0   3   0 383 105   0]\n",
      " [  0   0   0  57 475   0]\n",
      " [  0   0   0   1   1 535]]\n",
      "\n",
      "\n"
     ]
    },
    {
     "data": {
      "image/png": "[encoded data removed]",
      "text/plain": [
       "<Figure size 288x288 with 2 Axes>"
      ]
     },
     "metadata": {
      "needs_background": "light"
     },
     "output_type": "display_data"
    }
   ],
   "source": [
    "tempo_inicial = time.time()\n",
    "y_pred = classificador(3)\n",
    "print(\"TEMPO DE EXECUÇÃO (função classificador): %s segundos \\n\" % (time.time() - tempo_inicial))\n",
    "\n",
    "acuracia, recall, precisao= metrics(y_test,y_pred)\n",
    "stringSaida= \"acuracia = {ac} , recall = {rec} , precisao = {prec} \".format (ac = acuracia, rec = recall, prec = precisao)\n",
    "print (stringSaida)\n",
    "print(\"\\n\")\n",
    "\n",
    "cm = matrix_confusion(y_test,y_pred)\n",
    "print(cm)\n",
    "print(\"\\n\")\n",
    "\n",
    "df_confusion = pd.crosstab(y_test, y_pred)\n",
    "plot_confusion_matrix(df_confusion)\n",
    "\n"
   ]
  },
  {
   "cell_type": "markdown",
   "metadata": {},
   "source": [
    "## k = 6"
   ]
  },
  {
   "cell_type": "code",
   "execution_count": 5,
   "metadata": {},
   "outputs": [
    {
     "name": "stdout",
     "output_type": "stream",
     "text": [
      "TEMPO DE EXECUÇÃO (função classificador): 25.648001670837402 segundos \n",
      "\n",
      "acuracia = 0.9012555140821175 , recall = 0.9012555140821175 , precisao = 0.9052271462090213 \n",
      "\n",
      "\n",
      "[[486   1   9   0   0   0]\n",
      " [ 45 421   5   0   0   0]\n",
      " [ 55  44 321   0   0   0]\n",
      " [  0   4   0 420  67   0]\n",
      " [  0   0   0  57 475   0]\n",
      " [  0   0   0   3   1 533]]\n",
      "\n",
      "\n"
     ]
    },
    {
     "data": {
      "image/png": "[encoded data removed]",
      "text/plain": [
       "<Figure size 288x288 with 2 Axes>"
      ]
     },
     "metadata": {
      "needs_background": "light"
     },
     "output_type": "display_data"
    }
   ],
   "source": [
    "tempo_inicial = time.time()\n",
    "y_pred = classificador(6)\n",
    "print(\"TEMPO DE EXECUÇÃO (função classificador): %s segundos \\n\" % (time.time() - tempo_inicial))\n",
    "\n",
    "acuracia, recall, precisao= metrics(y_test,y_pred)\n",
    "stringSaida= \"acuracia = {ac} , recall = {rec} , precisao = {prec} \".format (ac = acuracia, rec = recall, prec = precisao)\n",
    "print (stringSaida)\n",
    "print(\"\\n\")\n",
    "\n",
    "cm = matrix_confusion(y_test,y_pred)\n",
    "print(cm)\n",
    "print(\"\\n\")\n",
    "\n",
    "df_confusion = pd.crosstab(y_test, y_pred)\n",
    "plot_confusion_matrix(df_confusion)"
   ]
  },
  {
   "cell_type": "markdown",
   "metadata": {},
   "source": [
    "## k = 9"
   ]
  },
  {
   "cell_type": "code",
   "execution_count": 6,
   "metadata": {},
   "outputs": [
    {
     "name": "stdout",
     "output_type": "stream",
     "text": [
      "TEMPO DE EXECUÇÃO (função classificador): 23.336453437805176 segundos \n",
      "\n",
      "acuracia = 0.9053274516457415 , recall = 0.9053274516457415 , precisao = 0.9095208899406916 \n",
      "\n",
      "\n",
      "[[485   1  10   0   0   0]\n",
      " [ 38 429   4   0   0   0]\n",
      " [ 47  42 331   0   0   0]\n",
      " [  0   4   0 394  93   0]\n",
      " [  0   0   0  37 495   0]\n",
      " [  0   0   0   2   1 534]]\n",
      "\n",
      "\n"
     ]
    },
    {
     "data": {
      "image/png": "[encoded data removed]",
      "text/plain": [
       "<Figure size 288x288 with 2 Axes>"
      ]
     },
     "metadata": {
      "needs_background": "light"
     },
     "output_type": "display_data"
    }
   ],
   "source": [
    "tempo_inicial = time.time()\n",
    "y_pred = classificador(9)\n",
    "print(\"TEMPO DE EXECUÇÃO (função classificador): %s segundos \\n\" % (time.time() - tempo_inicial))\n",
    "\n",
    "acuracia, recall, precisao= metrics(y_test,y_pred)\n",
    "stringSaida= \"acuracia = {ac} , recall = {rec} , precisao = {prec} \".format (ac = acuracia, rec = recall, prec = precisao)\n",
    "print (stringSaida)\n",
    "print(\"\\n\")\n",
    "\n",
    "cm = matrix_confusion(y_test,y_pred)\n",
    "print(cm)\n",
    "print(\"\\n\")\n",
    "\n",
    "df_confusion = pd.crosstab(y_test, y_pred)\n",
    "plot_confusion_matrix(df_confusion)"
   ]
  },
  {
   "cell_type": "markdown",
   "metadata": {},
   "source": [
    "## k = 12"
   ]
  },
  {
   "cell_type": "code",
   "execution_count": 7,
   "metadata": {},
   "outputs": [
    {
     "name": "stdout",
     "output_type": "stream",
     "text": [
      "TEMPO DE EXECUÇÃO (função classificador): 25.637549877166748 segundos \n",
      "\n",
      "acuracia = 0.9029521547336274 , recall = 0.9029521547336274 , precisao = 0.9067368169782795 \n",
      "\n",
      "\n",
      "[[486   0  10   0   0   0]\n",
      " [ 41 424   6   0   0   0]\n",
      " [ 52  42 326   0   0   0]\n",
      " [  0   4   0 404  83   0]\n",
      " [  0   0   0  45 487   0]\n",
      " [  0   0   0   2   1 534]]\n",
      "\n",
      "\n"
     ]
    },
    {
     "data": {
      "image/png": "[encoded data removed]",
      "text/plain": [
       "<Figure size 288x288 with 2 Axes>"
      ]
     },
     "metadata": {
      "needs_background": "light"
     },
     "output_type": "display_data"
    }
   ],
   "source": [
    "tempo_inicial = time.time()\n",
    "y_pred = classificador(12)\n",
    "print(\"TEMPO DE EXECUÇÃO (função classificador): %s segundos \\n\" % (time.time() - tempo_inicial))\n",
    "\n",
    "acuracia, recall, precisao= metrics(y_test,y_pred)\n",
    "stringSaida= \"acuracia = {ac} , recall = {rec} , precisao = {prec} \".format (ac = acuracia, rec = recall, prec = precisao)\n",
    "print (stringSaida)\n",
    "print(\"\\n\")\n",
    "\n",
    "cm = matrix_confusion(y_test,y_pred)\n",
    "print(cm)\n",
    "print(\"\\n\")\n",
    "\n",
    "df_confusion = pd.crosstab(y_test, y_pred)\n",
    "plot_confusion_matrix(df_confusion)"
   ]
  },
  {
   "cell_type": "markdown",
   "metadata": {},
   "source": [
    "## k = 20"
   ]
  },
  {
   "cell_type": "code",
   "execution_count": 8,
   "metadata": {},
   "outputs": [
    {
     "name": "stdout",
     "output_type": "stream",
     "text": [
      "TEMPO DE EXECUÇÃO (função classificador): 24.830687522888184 segundos \n",
      "\n",
      "acuracia = 0.9046487953851374 , recall = 0.9046487953851374 , precisao = 0.9096494507563135 \n",
      "\n",
      "\n",
      "[[489   0   7   0   0   0]\n",
      " [ 41 426   4   0   0   0]\n",
      " [ 53  46 321   0   0   0]\n",
      " [  0   4   0 400  87   0]\n",
      " [  0   0   0  37 495   0]\n",
      " [  0   0   0   1   1 535]]\n",
      "\n",
      "\n"
     ]
    },
    {
     "data": {
      "image/png": "[encoded data removed]",
      "text/plain": [
       "<Figure size 288x288 with 2 Axes>"
      ]
     },
     "metadata": {
      "needs_background": "light"
     },
     "output_type": "display_data"
    }
   ],
   "source": [
    "tempo_inicial = time.time()\n",
    "y_pred = classificador(20)\n",
    "print(\"TEMPO DE EXECUÇÃO (função classificador): %s segundos \\n\" % (time.time() - tempo_inicial))\n",
    "\n",
    "acuracia, recall, precisao= metrics(y_test,y_pred)\n",
    "stringSaida= \"acuracia = {ac} , recall = {rec} , precisao = {prec} \".format (ac = acuracia, rec = recall, prec = precisao)\n",
    "print (stringSaida)\n",
    "print(\"\\n\")\n",
    "\n",
    "cm = matrix_confusion(y_test,y_pred)\n",
    "print(cm)\n",
    "print(\"\\n\")\n",
    "\n",
    "df_confusion = pd.crosstab(y_test, y_pred)\n",
    "plot_confusion_matrix(df_confusion)"
   ]
  },
  {
   "cell_type": "markdown",
   "metadata": {},
   "source": [
    "## k = 30"
   ]
  },
  {
   "cell_type": "code",
   "execution_count": 9,
   "metadata": {},
   "outputs": [
    {
     "name": "stdout",
     "output_type": "stream",
     "text": [
      "TEMPO DE EXECUÇÃO (função classificador): 25.898823499679565 segundos \n",
      "\n",
      "acuracia = 0.8992195453003053 , recall = 0.8992195453003053 , precisao = 0.9057301635986735 \n",
      "\n",
      "\n",
      "[[489   0   7   0   0   0]\n",
      " [ 42 427   2   0   0   0]\n",
      " [ 56  50 314   0   0   0]\n",
      " [  0   4   0 387 100   0]\n",
      " [  0   0   0  34 498   0]\n",
      " [  0   0   0   1   1 535]]\n",
      "\n",
      "\n"
     ]
    },
    {
     "data": {
      "image/png": "[encoded data removed]",
      "text/plain": [
       "<Figure size 288x288 with 2 Axes>"
      ]
     },
     "metadata": {
      "needs_background": "light"
     },
     "output_type": "display_data"
    }
   ],
   "source": [
    "tempo_inicial = time.time()\n",
    "y_pred = classificador(30)\n",
    "print(\"TEMPO DE EXECUÇÃO (função classificador): %s segundos \\n\" % (time.time() - tempo_inicial))\n",
    "\n",
    "acuracia, recall, precisao= metrics(y_test,y_pred)\n",
    "stringSaida= \"acuracia = {ac} , recall = {rec} , precisao = {prec} \".format (ac = acuracia, rec = recall, prec = precisao)\n",
    "print (stringSaida)\n",
    "print(\"\\n\")\n",
    "\n",
    "cm = matrix_confusion(y_test,y_pred)\n",
    "print(cm)\n",
    "print(\"\\n\")\n",
    "\n",
    "df_confusion = pd.crosstab(y_test, y_pred)\n",
    "plot_confusion_matrix(df_confusion)"
   ]
  },
  {
   "cell_type": "markdown",
   "metadata": {},
   "source": [
    "# Naive Bayes"
   ]
  },
  {
   "cell_type": "code",
   "execution_count": 10,
   "metadata": {},
   "outputs": [
    {
     "name": "stdout",
     "output_type": "stream",
     "text": [
      "acuracia = 0.7702748557855447 , recall = 0.7702748557855447 , precisao = 0.794683370739926 \n",
      "\n",
      "\n",
      "[[416  38  42   0   0   0]\n",
      " [  9 451  11   0   0   0]\n",
      " [ 80  83 257   0   0   0]\n",
      " [  0   7   0 368 111   5]\n",
      " [  0  15   0  54 455   8]\n",
      " [  0   3   0 211   0 323]]\n",
      "\n",
      "\n"
     ]
    },
    {
     "data": {
      "image/png": "[encoded data removed]",
      "text/plain": [
       "<Figure size 288x288 with 2 Axes>"
      ]
     },
     "metadata": {
      "needs_background": "light"
     },
     "output_type": "display_data"
    }
   ],
   "source": [
    "##chamada do modelo\n",
    "from sklearn.naive_bayes import GaussianNB\n",
    "\n",
    "\n",
    "nb = GaussianNB()  \n",
    "nb.fit(x_train, y_train)   \n",
    "y_pred = nb.predict(x_test) \n",
    "\n",
    "acuracia, recall, precisao= metrics(y_test,y_pred)\n",
    "stringSaida= \"acuracia = {ac} , recall = {rec} , precisao = {prec} \".format (ac = acuracia, rec = recall, prec = precisao)\n",
    "print (stringSaida)\n",
    "print(\"\\n\")\n",
    "\n",
    "cm = matrix_confusion(y_test,y_pred)\n",
    "print(cm)\n",
    "print(\"\\n\")\n",
    "\n",
    "df_confusion = pd.crosstab(y_test, y_pred)\n",
    "plot_confusion_matrix(df_confusion)"
   ]
  },
  {
   "cell_type": "markdown",
   "metadata": {},
   "source": [
    "# SVM"
   ]
  },
  {
   "cell_type": "markdown",
   "metadata": {},
   "source": [
    "### Testes\n",
    "C = 1 , Gamma = 1"
   ]
  },
  {
   "cell_type": "code",
   "execution_count": 20,
   "metadata": {},
   "outputs": [
    {
     "name": "stdout",
     "output_type": "stream",
     "text": [
      "TEMPO DE EXECUÇÃO (função classificador): 6.054511070251465 segundos \n",
      "\n",
      "acuracia = 0.9640312181879878 , recall = 0.9640312181879878 , precisao = 0.9649392266454911 \n",
      "\n",
      "\n",
      "[[492   1   3   0   0   0]\n",
      " [ 18 451   2   0   0   0]\n",
      " [  4   6 410   0   0   0]\n",
      " [  0   2   0 435  54   0]\n",
      " [  0   0   0  16 516   0]\n",
      " [  0   0   0   0   0 537]]\n",
      "\n",
      "\n"
     ]
    },
    {
     "data": {
      "image/png": "[encoded data removed]",
      "text/plain": [
       "<Figure size 288x288 with 2 Axes>"
      ]
     },
     "metadata": {
      "needs_background": "light"
     },
     "output_type": "display_data"
    }
   ],
   "source": [
    "from sklearn import svm\n",
    "\n",
    "def classificadorSVM():\n",
    "  # criação de um objeto classificador\n",
    "  model = svm.SVC(kernel='linear', C=1, gamma=1) \n",
    "  model.fit(x_train, y_train)\n",
    "  #variável recebe os valores preditos para os dados de teste\n",
    "  y_pred= model.predict(x_test)\n",
    "  return y_pred\n",
    "\n",
    "tempo_inicial = time.time()\n",
    "y_pred = classificadorSVM()\n",
    "print(\"TEMPO DE EXECUÇÃO (função classificador): %s segundos \\n\" % (time.time() - tempo_inicial))\n",
    "\n",
    "#Metricas de desempenho do modelo\n",
    "acuracia, recall, precisao= metrics(y_test,y_pred)\n",
    "stringSaida= \"acuracia = {ac} , recall = {rec} , precisao = {prec} \".format (ac = acuracia, rec = recall, prec = precisao)\n",
    "print (stringSaida)\n",
    "print(\"\\n\")\n",
    "\n",
    "cm = matrix_confusion(y_test,y_pred)\n",
    "print(cm)\n",
    "print(\"\\n\")\n",
    "\n",
    "df_confusion = pd.crosstab(y_test, y_pred)\n",
    "plot_confusion_matrix(df_confusion)"
   ]
  },
  {
   "cell_type": "markdown",
   "metadata": {},
   "source": [
    "C = 3 , Gamma = 1"
   ]
  },
  {
   "cell_type": "code",
   "execution_count": 21,
   "metadata": {},
   "outputs": [
    {
     "name": "stdout",
     "output_type": "stream",
     "text": [
      "TEMPO DE EXECUÇÃO (função classificador): 6.669413328170776 segundos \n",
      "\n",
      "acuracia = 0.9636918900576857 , recall = 0.9636918900576857 , precisao = 0.9648269502213251 \n",
      "\n",
      "\n",
      "[[492   1   3   0   0   0]\n",
      " [ 18 451   2   0   0   0]\n",
      " [  4   6 410   0   0   0]\n",
      " [  0   2   0 432  57   0]\n",
      " [  0   0   0  14 518   0]\n",
      " [  0   0   0   0   0 537]]\n",
      "\n",
      "\n"
     ]
    },
    {
     "data": {
      "image/png": "[encoded data removed]",
      "text/plain": [
       "<Figure size 288x288 with 2 Axes>"
      ]
     },
     "metadata": {
      "needs_background": "light"
     },
     "output_type": "display_data"
    }
   ],
   "source": [
    "from sklearn import svm\n",
    "\n",
    "def classificadorSVM():\n",
    "  # criação de um objeto classificador\n",
    "  model = svm.SVC(kernel='linear', C=3, gamma=1) \n",
    "  model.fit(x_train, y_train)\n",
    "  #variável recebe os valores preditos para os dados de teste\n",
    "  y_pred= model.predict(x_test)\n",
    "  return y_pred\n",
    "\n",
    "tempo_inicial = time.time()\n",
    "y_pred = classificadorSVM()\n",
    "print(\"TEMPO DE EXECUÇÃO (função classificador): %s segundos \\n\" % (time.time() - tempo_inicial))\n",
    "\n",
    "#Metricas de desempenho do modelo\n",
    "acuracia, recall, precisao= metrics(y_test,y_pred)\n",
    "stringSaida= \"acuracia = {ac} , recall = {rec} , precisao = {prec} \".format (ac = acuracia, rec = recall, prec = precisao)\n",
    "print (stringSaida)\n",
    "print(\"\\n\")\n",
    "\n",
    "cm = matrix_confusion(y_test,y_pred)\n",
    "print(cm)\n",
    "print(\"\\n\")\n",
    "\n",
    "df_confusion = pd.crosstab(y_test, y_pred)\n",
    "plot_confusion_matrix(df_confusion)"
   ]
  },
  {
   "cell_type": "markdown",
   "metadata": {},
   "source": [
    "C=30, Gamma = 40"
   ]
  },
  {
   "cell_type": "code",
   "execution_count": 26,
   "metadata": {},
   "outputs": [
    {
     "name": "stdout",
     "output_type": "stream",
     "text": [
      "TEMPO DE EXECUÇÃO (função classificador): 6.858308792114258 segundos \n",
      "\n",
      "acuracia = 0.9626739056667798 , recall = 0.9626739056667798 , precisao = 0.9633547420939376 \n",
      "\n",
      "\n",
      "[[492   1   3   0   0   0]\n",
      " [ 18 451   2   0   0   0]\n",
      " [  4   6 410   0   0   0]\n",
      " [  0   3   0 435  53   0]\n",
      " [  0   0   0  20 512   0]\n",
      " [  0   0   0   0   0 537]]\n",
      "\n",
      "\n"
     ]
    },
    {
     "data": {
      "image/png": "[encoded data removed]",
      "text/plain": [
       "<Figure size 288x288 with 2 Axes>"
      ]
     },
     "metadata": {
      "needs_background": "light"
     },
     "output_type": "display_data"
    }
   ],
   "source": [
    "from sklearn import svm\n",
    "\n",
    "def classificadorSVM():\n",
    "  # criação de um objeto classificador\n",
    "  model = svm.SVC(kernel='linear', C=30, gamma=40) \n",
    "  model.fit(x_train, y_train)\n",
    "  #variável recebe os valores preditos para os dados de teste\n",
    "  y_pred= model.predict(x_test)\n",
    "  return y_pred\n",
    "\n",
    "tempo_inicial = time.time()\n",
    "y_pred = classificadorSVM()\n",
    "print(\"TEMPO DE EXECUÇÃO (função classificador): %s segundos \\n\" % (time.time() - tempo_inicial))\n",
    "\n",
    "#Metricas de desempenho do modelo\n",
    "acuracia, recall, precisao= metrics(y_test,y_pred)\n",
    "stringSaida= \"acuracia = {ac} , recall = {rec} , precisao = {prec} \".format (ac = acuracia, rec = recall, prec = precisao)\n",
    "print (stringSaida)\n",
    "print(\"\\n\")\n",
    "\n",
    "cm = matrix_confusion(y_test,y_pred)\n",
    "print(cm)\n",
    "print(\"\\n\")\n",
    "\n",
    "df_confusion = pd.crosstab(y_test, y_pred)\n",
    "plot_confusion_matrix(df_confusion)\n"
   ]
  },
  {
   "cell_type": "code",
   "execution_count": 28,
   "metadata": {},
   "outputs": [
    {
     "name": "stdout",
     "output_type": "stream",
     "text": [
      "TEMPO DE EXECUÇÃO (função classificador): 6.676286697387695 segundos \n",
      "\n",
      "acuracia = 0.9613165931455717 , recall = 0.9613165931455717 , precisao = 0.9617731776439911 \n",
      "\n",
      "\n",
      "[[492   1   3   0   0   0]\n",
      " [ 18 451   2   0   0   0]\n",
      " [  4   6 410   0   0   0]\n",
      " [  0   2   0 437  52   0]\n",
      " [  0   0   0  26 506   0]\n",
      " [  0   0   0   0   0 537]]\n",
      "\n",
      "\n"
     ]
    },
    {
     "data": {
      "image/png": "[encoded data removed]",
      "text/plain": [
       "<Figure size 288x288 with 2 Axes>"
      ]
     },
     "metadata": {
      "needs_background": "light"
     },
     "output_type": "display_data"
    }
   ],
   "source": [
    "from sklearn import svm\n",
    "\n",
    "def classificadorSVM():\n",
    "  # criação de um objeto classificador\n",
    "  model = svm.SVC(kernel='linear', C=1000) \n",
    "  model.fit(x_train, y_train)\n",
    "  #variável recebe os valores preditos para os dados de teste\n",
    "  y_pred= model.predict(x_test)\n",
    "  return y_pred\n",
    "\n",
    "tempo_inicial = time.time()\n",
    "y_pred = classificadorSVM()\n",
    "print(\"TEMPO DE EXECUÇÃO (função classificador): %s segundos \\n\" % (time.time() - tempo_inicial))\n",
    "\n",
    "#Metricas de desempenho do modelo\n",
    "acuracia, recall, precisao= metrics(y_test,y_pred)\n",
    "stringSaida= \"acuracia = {ac} , recall = {rec} , precisao = {prec} \".format (ac = acuracia, rec = recall, prec = precisao)\n",
    "print (stringSaida)\n",
    "print(\"\\n\")\n",
    "\n",
    "cm = matrix_confusion(y_test,y_pred)\n",
    "print(cm)\n",
    "print(\"\\n\")\n",
    "\n",
    "df_confusion = pd.crosstab(y_test, y_pred)\n",
    "plot_confusion_matrix(df_confusion)"
   ]
  },
  {
   "cell_type": "markdown",
   "metadata": {},
   "source": [
    "# Conclusão\n",
    "\n",
    "Depois do estudo estudo feito, foi possível concluir que o melhor algoritmo para esse conjunto de dados, entre os 3, é o SVM. Tanto com desempenho, quanto com precisão. O de pior desempenho foi o Naive Bayes, com 79 de precisão.  \n",
    "\n"
   ]
  },
  {
   "cell_type": "code",
   "execution_count": null,
   "metadata": {},
   "outputs": [],
   "source": []
  }
 ],
 "metadata": {
  "kernelspec": {
   "display_name": "Python 3",
   "language": "python",
   "name": "python3"
  },
  "language_info": {
   "codemirror_mode": {
    "name": "ipython",
    "version": 3
   },
   "file_extension": ".py",
   "mimetype": "text/x-python",
   "name": "python",
   "nbconvert_exporter": "python",
   "pygments_lexer": "ipython3",
   "version": "3.7.4"
  }
 },
 "nbformat": 4,
 "nbformat_minor": 2
}
